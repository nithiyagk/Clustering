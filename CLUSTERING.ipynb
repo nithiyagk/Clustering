{
 "cells": [
  {
   "cell_type": "code",
   "execution_count": 1,
   "id": "20cadf45",
   "metadata": {},
   "outputs": [],
   "source": [
    "import pandas as pd\n",
    "from sklearn.preprocessing import StandardScaler, LabelEncoder\n",
    "from sklearn.cluster import KMeans\n",
    "import matplotlib.pyplot as plt"
   ]
  },
  {
   "cell_type": "code",
   "execution_count": 2,
   "id": "2508894a",
   "metadata": {},
   "outputs": [],
   "source": [
    "df =  pd.read_csv(\"extended_synthetic_exam_dataset.csv\")"
   ]
  },
  {
   "cell_type": "code",
   "execution_count": 3,
   "id": "043ca822",
   "metadata": {},
   "outputs": [
    {
     "data": {
      "text/html": [
       "<div>\n",
       "<style scoped>\n",
       "    .dataframe tbody tr th:only-of-type {\n",
       "        vertical-align: middle;\n",
       "    }\n",
       "\n",
       "    .dataframe tbody tr th {\n",
       "        vertical-align: top;\n",
       "    }\n",
       "\n",
       "    .dataframe thead th {\n",
       "        text-align: right;\n",
       "    }\n",
       "</style>\n",
       "<table border=\"1\" class=\"dataframe\">\n",
       "  <thead>\n",
       "    <tr style=\"text-align: right;\">\n",
       "      <th></th>\n",
       "      <th>question_text</th>\n",
       "      <th>category</th>\n",
       "      <th>sample_answer</th>\n",
       "      <th>score</th>\n",
       "      <th>difficulty_level</th>\n",
       "      <th>question_type</th>\n",
       "      <th>time_limit</th>\n",
       "      <th>skill_level</th>\n",
       "      <th>exam_date</th>\n",
       "      <th>weightage</th>\n",
       "      <th>answer_length</th>\n",
       "    </tr>\n",
       "  </thead>\n",
       "  <tbody>\n",
       "    <tr>\n",
       "      <th>0</th>\n",
       "      <td>Pick hair south company listen agree none thin...</td>\n",
       "      <td>Geography</td>\n",
       "      <td>Current save edge religious.</td>\n",
       "      <td>4</td>\n",
       "      <td>Medium</td>\n",
       "      <td>True/False</td>\n",
       "      <td>9</td>\n",
       "      <td>Concept Understanding</td>\n",
       "      <td>2025-01-14</td>\n",
       "      <td>1</td>\n",
       "      <td>4</td>\n",
       "    </tr>\n",
       "    <tr>\n",
       "      <th>1</th>\n",
       "      <td>Black main high off ago.?</td>\n",
       "      <td>History</td>\n",
       "      <td>Black including majority too including run fro...</td>\n",
       "      <td>1</td>\n",
       "      <td>Medium</td>\n",
       "      <td>Multiple Choice</td>\n",
       "      <td>8</td>\n",
       "      <td>Problem Solving</td>\n",
       "      <td>2025-01-28</td>\n",
       "      <td>5</td>\n",
       "      <td>8</td>\n",
       "    </tr>\n",
       "    <tr>\n",
       "      <th>2</th>\n",
       "      <td>Politics already least ahead piece bill real a...</td>\n",
       "      <td>Geography</td>\n",
       "      <td>Production human character follow lay.</td>\n",
       "      <td>7</td>\n",
       "      <td>Medium</td>\n",
       "      <td>True/False</td>\n",
       "      <td>10</td>\n",
       "      <td>Concept Understanding</td>\n",
       "      <td>2025-01-13</td>\n",
       "      <td>4</td>\n",
       "      <td>5</td>\n",
       "    </tr>\n",
       "    <tr>\n",
       "      <th>3</th>\n",
       "      <td>City PM light get young in make weight.?</td>\n",
       "      <td>Geography</td>\n",
       "      <td>Whom future company will change experience wor...</td>\n",
       "      <td>8</td>\n",
       "      <td>Hard</td>\n",
       "      <td>Open-Ended</td>\n",
       "      <td>7</td>\n",
       "      <td>Concept Understanding</td>\n",
       "      <td>2025-01-27</td>\n",
       "      <td>5</td>\n",
       "      <td>11</td>\n",
       "    </tr>\n",
       "    <tr>\n",
       "      <th>4</th>\n",
       "      <td>Clear generation paper or at big address beyond.?</td>\n",
       "      <td>History</td>\n",
       "      <td>City why get forget bed similar. Rule run move...</td>\n",
       "      <td>7</td>\n",
       "      <td>Easy</td>\n",
       "      <td>Open-Ended</td>\n",
       "      <td>2</td>\n",
       "      <td>Concept Understanding</td>\n",
       "      <td>2025-01-31</td>\n",
       "      <td>2</td>\n",
       "      <td>10</td>\n",
       "    </tr>\n",
       "    <tr>\n",
       "      <th>...</th>\n",
       "      <td>...</td>\n",
       "      <td>...</td>\n",
       "      <td>...</td>\n",
       "      <td>...</td>\n",
       "      <td>...</td>\n",
       "      <td>...</td>\n",
       "      <td>...</td>\n",
       "      <td>...</td>\n",
       "      <td>...</td>\n",
       "      <td>...</td>\n",
       "      <td>...</td>\n",
       "    </tr>\n",
       "    <tr>\n",
       "      <th>995</th>\n",
       "      <td>Industry question expert enter break suffer we.?</td>\n",
       "      <td>Chemistry</td>\n",
       "      <td>Toward him nature whether station country.</td>\n",
       "      <td>3</td>\n",
       "      <td>Hard</td>\n",
       "      <td>Open-Ended</td>\n",
       "      <td>5</td>\n",
       "      <td>Concept Understanding</td>\n",
       "      <td>2025-01-31</td>\n",
       "      <td>3</td>\n",
       "      <td>6</td>\n",
       "    </tr>\n",
       "    <tr>\n",
       "      <th>996</th>\n",
       "      <td>Large suddenly think age.?</td>\n",
       "      <td>Chemistry</td>\n",
       "      <td>Arm so way data. Drive quality these.</td>\n",
       "      <td>7</td>\n",
       "      <td>Medium</td>\n",
       "      <td>Open-Ended</td>\n",
       "      <td>6</td>\n",
       "      <td>Critical Thinking</td>\n",
       "      <td>2025-01-13</td>\n",
       "      <td>5</td>\n",
       "      <td>7</td>\n",
       "    </tr>\n",
       "    <tr>\n",
       "      <th>997</th>\n",
       "      <td>Accept billion after however information.?</td>\n",
       "      <td>Geography</td>\n",
       "      <td>Note only present scene national region. Low t...</td>\n",
       "      <td>10</td>\n",
       "      <td>Easy</td>\n",
       "      <td>True/False</td>\n",
       "      <td>8</td>\n",
       "      <td>Critical Thinking</td>\n",
       "      <td>2025-01-26</td>\n",
       "      <td>4</td>\n",
       "      <td>9</td>\n",
       "    </tr>\n",
       "    <tr>\n",
       "      <th>998</th>\n",
       "      <td>Benefit actually commercial actually heavy not...</td>\n",
       "      <td>Chemistry</td>\n",
       "      <td>Plant receive animal believe admit skill keep ...</td>\n",
       "      <td>7</td>\n",
       "      <td>Easy</td>\n",
       "      <td>Multiple Choice</td>\n",
       "      <td>1</td>\n",
       "      <td>Application</td>\n",
       "      <td>2025-01-24</td>\n",
       "      <td>4</td>\n",
       "      <td>8</td>\n",
       "    </tr>\n",
       "    <tr>\n",
       "      <th>999</th>\n",
       "      <td>Happen owner understand next receive generatio...</td>\n",
       "      <td>Physics</td>\n",
       "      <td>Style finish ground drive write difference leg.</td>\n",
       "      <td>10</td>\n",
       "      <td>Hard</td>\n",
       "      <td>Multiple Choice</td>\n",
       "      <td>9</td>\n",
       "      <td>Concept Understanding</td>\n",
       "      <td>2025-01-15</td>\n",
       "      <td>2</td>\n",
       "      <td>7</td>\n",
       "    </tr>\n",
       "  </tbody>\n",
       "</table>\n",
       "<p>1000 rows × 11 columns</p>\n",
       "</div>"
      ],
      "text/plain": [
       "                                         question_text   category  \\\n",
       "0    Pick hair south company listen agree none thin...  Geography   \n",
       "1                            Black main high off ago.?    History   \n",
       "2    Politics already least ahead piece bill real a...  Geography   \n",
       "3             City PM light get young in make weight.?  Geography   \n",
       "4    Clear generation paper or at big address beyond.?    History   \n",
       "..                                                 ...        ...   \n",
       "995   Industry question expert enter break suffer we.?  Chemistry   \n",
       "996                         Large suddenly think age.?  Chemistry   \n",
       "997         Accept billion after however information.?  Geography   \n",
       "998  Benefit actually commercial actually heavy not...  Chemistry   \n",
       "999  Happen owner understand next receive generatio...    Physics   \n",
       "\n",
       "                                         sample_answer  score  \\\n",
       "0                         Current save edge religious.      4   \n",
       "1    Black including majority too including run fro...      1   \n",
       "2               Production human character follow lay.      7   \n",
       "3    Whom future company will change experience wor...      8   \n",
       "4    City why get forget bed similar. Rule run move...      7   \n",
       "..                                                 ...    ...   \n",
       "995         Toward him nature whether station country.      3   \n",
       "996              Arm so way data. Drive quality these.      7   \n",
       "997  Note only present scene national region. Low t...     10   \n",
       "998  Plant receive animal believe admit skill keep ...      7   \n",
       "999    Style finish ground drive write difference leg.     10   \n",
       "\n",
       "    difficulty_level    question_type  time_limit            skill_level  \\\n",
       "0             Medium       True/False           9  Concept Understanding   \n",
       "1             Medium  Multiple Choice           8        Problem Solving   \n",
       "2             Medium       True/False          10  Concept Understanding   \n",
       "3               Hard       Open-Ended           7  Concept Understanding   \n",
       "4               Easy       Open-Ended           2  Concept Understanding   \n",
       "..               ...              ...         ...                    ...   \n",
       "995             Hard       Open-Ended           5  Concept Understanding   \n",
       "996           Medium       Open-Ended           6      Critical Thinking   \n",
       "997             Easy       True/False           8      Critical Thinking   \n",
       "998             Easy  Multiple Choice           1            Application   \n",
       "999             Hard  Multiple Choice           9  Concept Understanding   \n",
       "\n",
       "      exam_date  weightage  answer_length  \n",
       "0    2025-01-14          1              4  \n",
       "1    2025-01-28          5              8  \n",
       "2    2025-01-13          4              5  \n",
       "3    2025-01-27          5             11  \n",
       "4    2025-01-31          2             10  \n",
       "..          ...        ...            ...  \n",
       "995  2025-01-31          3              6  \n",
       "996  2025-01-13          5              7  \n",
       "997  2025-01-26          4              9  \n",
       "998  2025-01-24          4              8  \n",
       "999  2025-01-15          2              7  \n",
       "\n",
       "[1000 rows x 11 columns]"
      ]
     },
     "execution_count": 3,
     "metadata": {},
     "output_type": "execute_result"
    }
   ],
   "source": [
    "df"
   ]
  },
  {
   "cell_type": "code",
   "execution_count": 4,
   "id": "3389089e",
   "metadata": {},
   "outputs": [],
   "source": [
    "df_subset = df[[\"category\", \"score\", \"difficulty_level\", \"question_type\", \"time_limit\", \"skill_level\", \"weightage\"]].copy()\n"
   ]
  },
  {
   "cell_type": "code",
   "execution_count": 5,
   "id": "fba2ae18",
   "metadata": {},
   "outputs": [],
   "source": [
    "le = LabelEncoder()\n",
    "categorical_columns = [\"category\", \"difficulty_level\", \"question_type\", \"skill_level\"]"
   ]
  },
  {
   "cell_type": "code",
   "execution_count": 6,
   "id": "193a9b9b",
   "metadata": {},
   "outputs": [],
   "source": [
    "for column in categorical_columns:\n",
    "    df_subset[column] = le.fit_transform(df_subset[column])"
   ]
  },
  {
   "cell_type": "code",
   "execution_count": 7,
   "id": "d1d9b177",
   "metadata": {},
   "outputs": [],
   "source": [
    "scaler = StandardScaler()\n",
    "scaled_data = scaler.fit_transform(df_subset)"
   ]
  },
  {
   "cell_type": "code",
   "execution_count": 9,
   "id": "947cb377",
   "metadata": {},
   "outputs": [
    {
     "name": "stderr",
     "output_type": "stream",
     "text": [
      "C:\\Users\\NITHIYAGOKULAVASAGI\\anaconda3\\lib\\site-packages\\sklearn\\cluster\\_kmeans.py:1382: UserWarning: KMeans is known to have a memory leak on Windows with MKL, when there are less chunks than available threads. You can avoid it by setting the environment variable OMP_NUM_THREADS=4.\n",
      "  warnings.warn(\n",
      "C:\\Users\\NITHIYAGOKULAVASAGI\\anaconda3\\lib\\site-packages\\sklearn\\cluster\\_kmeans.py:1382: UserWarning: KMeans is known to have a memory leak on Windows with MKL, when there are less chunks than available threads. You can avoid it by setting the environment variable OMP_NUM_THREADS=4.\n",
      "  warnings.warn(\n",
      "C:\\Users\\NITHIYAGOKULAVASAGI\\anaconda3\\lib\\site-packages\\sklearn\\cluster\\_kmeans.py:1382: UserWarning: KMeans is known to have a memory leak on Windows with MKL, when there are less chunks than available threads. You can avoid it by setting the environment variable OMP_NUM_THREADS=4.\n",
      "  warnings.warn(\n",
      "C:\\Users\\NITHIYAGOKULAVASAGI\\anaconda3\\lib\\site-packages\\sklearn\\cluster\\_kmeans.py:1382: UserWarning: KMeans is known to have a memory leak on Windows with MKL, when there are less chunks than available threads. You can avoid it by setting the environment variable OMP_NUM_THREADS=4.\n",
      "  warnings.warn(\n",
      "C:\\Users\\NITHIYAGOKULAVASAGI\\anaconda3\\lib\\site-packages\\sklearn\\cluster\\_kmeans.py:1382: UserWarning: KMeans is known to have a memory leak on Windows with MKL, when there are less chunks than available threads. You can avoid it by setting the environment variable OMP_NUM_THREADS=4.\n",
      "  warnings.warn(\n",
      "C:\\Users\\NITHIYAGOKULAVASAGI\\anaconda3\\lib\\site-packages\\sklearn\\cluster\\_kmeans.py:1382: UserWarning: KMeans is known to have a memory leak on Windows with MKL, when there are less chunks than available threads. You can avoid it by setting the environment variable OMP_NUM_THREADS=4.\n",
      "  warnings.warn(\n",
      "C:\\Users\\NITHIYAGOKULAVASAGI\\anaconda3\\lib\\site-packages\\sklearn\\cluster\\_kmeans.py:1382: UserWarning: KMeans is known to have a memory leak on Windows with MKL, when there are less chunks than available threads. You can avoid it by setting the environment variable OMP_NUM_THREADS=4.\n",
      "  warnings.warn(\n",
      "C:\\Users\\NITHIYAGOKULAVASAGI\\anaconda3\\lib\\site-packages\\sklearn\\cluster\\_kmeans.py:1382: UserWarning: KMeans is known to have a memory leak on Windows with MKL, when there are less chunks than available threads. You can avoid it by setting the environment variable OMP_NUM_THREADS=4.\n",
      "  warnings.warn(\n",
      "C:\\Users\\NITHIYAGOKULAVASAGI\\anaconda3\\lib\\site-packages\\sklearn\\cluster\\_kmeans.py:1382: UserWarning: KMeans is known to have a memory leak on Windows with MKL, when there are less chunks than available threads. You can avoid it by setting the environment variable OMP_NUM_THREADS=4.\n",
      "  warnings.warn(\n",
      "C:\\Users\\NITHIYAGOKULAVASAGI\\anaconda3\\lib\\site-packages\\sklearn\\cluster\\_kmeans.py:1382: UserWarning: KMeans is known to have a memory leak on Windows with MKL, when there are less chunks than available threads. You can avoid it by setting the environment variable OMP_NUM_THREADS=4.\n",
      "  warnings.warn(\n"
     ]
    }
   ],
   "source": [
    "inertia = []\n",
    "k_range = range(1, 11)\n",
    "for k in k_range:\n",
    "        kmeans = KMeans(n_clusters=k, random_state=42, n_init=1)\n",
    "        kmeans.fit(scaled_data)\n",
    "        inertia.append(kmeans.inertia_)"
   ]
  },
  {
   "cell_type": "code",
   "execution_count": 10,
   "id": "3a06ddb3",
   "metadata": {},
   "outputs": [
    {
     "data": {
      "image/png": "[encoded data removed]",
      "text/plain": [
       "<Figure size 800x500 with 1 Axes>"
      ]
     },
     "metadata": {},
     "output_type": "display_data"
    }
   ],
   "source": [
    "plt.figure(figsize=(8, 5))\n",
    "plt.plot(k_range, inertia, marker='o', linestyle='--')\n",
    "plt.show()"
   ]
  },
  {
   "cell_type": "code",
   "execution_count": 11,
   "id": "bcb0a11a",
   "metadata": {},
   "outputs": [],
   "source": [
    "optimal_k = 3 "
   ]
  },
  {
   "cell_type": "code",
   "execution_count": 13,
   "id": "0bb21aca",
   "metadata": {},
   "outputs": [
    {
     "name": "stderr",
     "output_type": "stream",
     "text": [
      "C:\\Users\\NITHIYAGOKULAVASAGI\\anaconda3\\lib\\site-packages\\sklearn\\cluster\\_kmeans.py:1382: UserWarning: KMeans is known to have a memory leak on Windows with MKL, when there are less chunks than available threads. You can avoid it by setting the environment variable OMP_NUM_THREADS=4.\n",
      "  warnings.warn(\n"
     ]
    }
   ],
   "source": [
    "kmeans = KMeans(n_clusters=optimal_k, random_state=42, n_init=10)\n",
    "df[\"cluster\"] = kmeans.fit_predict(scaled_data)"
   ]
  },
  {
   "cell_type": "code",
   "execution_count": 14,
   "id": "d9cc6702",
   "metadata": {},
   "outputs": [
    {
     "name": "stdout",
     "output_type": "stream",
     "text": [
      "Cluster Centers:\n",
      " [[ 0.40043641 -0.69327058 -0.43621012  0.67372906  0.00824449  0.29377129\n",
      "   0.2906831 ]\n",
      " [-0.19647552  0.70360883 -0.77035549 -0.37752244  0.18137267 -0.17534269\n",
      "  -0.22584815]\n",
      " [-0.1612127  -0.02910277  1.01037214 -0.23142049 -0.16055351 -0.09181017\n",
      "  -0.04645333]]\n",
      "\n",
      "Cluster Counts:\n",
      " 2    375\n",
      "1    318\n",
      "0    307\n",
      "Name: cluster, dtype: int64\n"
     ]
    }
   ],
   "source": [
    "print(\"Cluster Centers:\\n\", kmeans.cluster_centers_)\n",
    "print(\"\\nCluster Counts:\\n\", df[\"cluster\"].value_counts())"
   ]
  },
  {
   "cell_type": "code",
   "execution_count": null,
   "id": "39997429",
   "metadata": {},
   "outputs": [],
   "source": []
  },
  {
   "cell_type": "code",
   "execution_count": null,
   "id": "d3001af4",
   "metadata": {},
   "outputs": [],
   "source": []
  }
 ],
 "metadata": {
  "kernelspec": {
   "display_name": "Python 3 (ipykernel)",
   "language": "python",
   "name": "python3"
  },
  "language_info": {
   "codemirror_mode": {
    "name": "ipython",
    "version": 3
   },
   "file_extension": ".py",
   "mimetype": "text/x-python",
   "name": "python",
   "nbconvert_exporter": "python",
   "pygments_lexer": "ipython3",
   "version": "3.10.9"
  }
 },
 "nbformat": 4,
 "nbformat_minor": 5
}
